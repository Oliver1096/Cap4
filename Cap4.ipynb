{
 "cells": [
  {
   "cell_type": "markdown",
   "metadata": {},
   "source": [
    "# Capitulo 4. Combinando las reglas básicas.\n",
    "------\n",
    "\n",
    "\n",
    "El principal método para calcular probabilidades consiste en la utilización de las\n",
    "reglas de la suma y del producto. **Si uno quiere calcular la probabilidad de un evento\n",
    "complejo, se busca expresar ese evento como una unión o una intersección de eventos\n",
    "más simples**; de preferencia, eventos mutuamente excluyentes para el caso de una\n",
    "unión y eventos independientes para el caso de una intersección.\n",
    "\n",
    "\n"
   ]
  },
  {
   "cell_type": "markdown",
   "metadata": {},
   "source": [
    "## Definición 4.1 Partición de un espacio muestral. \n",
    "Se dice que una colección de eventos de probabilidad positiva $A_1,..., A_n$ forman una partición del espacio muestral\n",
    "si éstos son mutuamente excluyentes y $A_1 U ... U A_n = \\Omega$\n",
    "\n",
    "# Proposición 4.2 Regla de la probabilidad total. \n",
    "Sean B un evento cualquiera y $A_1,..., A_n$ una partición del espacio muestral , entonces:\n",
    "\n",
    "$$P(B) = P(B | A_1)P(A_1) + ... + P(B | A_n)P(A_n)$$"
   ]
  },
  {
   "cell_type": "markdown",
   "metadata": {},
   "source": [
    "![Particion del espacioMuestral](\"C:/Users/JOliv/OneDrive/Imágenes/pt.PNG\")"
   ]
  },
  {
   "cell_type": "markdown",
   "metadata": {},
   "source": [
    "### Ejemplo 4.5\n",
    "\n",
    "*Se tienen 3 escritorios, cada uno con dos cajones. El primer escritorio\n",
    "contiene una moneda de oro en cada cajón; el segundo contiene una moneda de oro\n",
    "en un cajón y una de plata en el otro; el tercero contiene una moneda de plata en\n",
    "cada cajón. Se elige un escritorio al azar, se abre un cajón y después el otro. Calcule\n",
    "la probabilidad de que el segundo cajón contenga una moneda de oro bajo la hipótesis\n",
    "de que el primero contiene una moneda de oro.*\n",
    "\n"
   ]
  },
  {
   "cell_type": "markdown",
   "metadata": {},
   "source": [
    "![Escritorios](\"C:\\\\Users\\\\JOliv\\\\OneDrive\\\\Imágenes\\\\escritorios.jpg\")"
   ]
  },
  {
   "cell_type": "markdown",
   "metadata": {},
   "source": [
    "Consideremos los eventos siguientes:\n",
    "\n",
    "    \n",
    "    - A1 : se elige el primer escritorio.\n",
    "\n",
    "    - A2 : se elige el segundo escritorio.\n",
    "\n",
    "    - A3 : se elige el tercer escritorio.\n",
    "\n",
    "    - B : el primer cajón que se abre contiene una moneda de oro.\n",
    "\n",
    "    - A : el segundo cajón contiene una moneda de oro.\n",
    "\n",
    "Entonces:"
   ]
  },
  {
   "cell_type": "markdown",
   "metadata": {},
   "source": [
    "## Proposición 4.8 (Regla generalizada de la probabilidad total). \n",
    "Sean A; B y $A_1, ... , A_n$ eventos relativos a un experimento E y supongamos que los eventos $A_1, ..., A_n$ forman una partición del espacio muestral y que $P(A) > 0.$ Entonces:\n",
    "\n",
    "$$\n",
    "P(B | A) = P_n\n",
    "k=1 P(B | A \\ A_k)P(A_k | A)\n",
    "$$\n"
   ]
  },
  {
   "cell_type": "markdown",
   "metadata": {},
   "source": [
    "# Regla de Bayes\n",
    "\n",
    "La probabilidad condicional surge de problemas del siguiente tipo: se realizan en\n",
    "forma sucesiva dos experimentos aleatorios tales que, una vez hecho el primero, las\n",
    "probabilidades de los posibles resultados del segundo dependen del resultado de aquÈl;\n",
    "entonces, si A y B son dos eventos relativos al primero y segundo experimento, respectivamente, nos interesa conocer la probabilidad de que ocurra el eve"
   ]
  },
  {
   "cell_type": "markdown",
   "metadata": {},
   "source": [
    "### Ejemplo Falso Positivo\n",
    "\n",
    "Falso Negativo = cuando la prueba resulta negativapara una persona que tiene la enfermedad\n",
    "\n",
    "Falso Positivo = cuando la prueba resulta positiva para una persona que no tiene la enfermedad\n",
    "\n",
    "**Supuestos**\n",
    "\n",
    "* Supongamos que una prueba de sangre de una cierta\n",
    "enfermedad contagiosa es tal que las probabilidades de un falso negativo y de un falso\n",
    "positivo son ambas iguales a 0.05:\n",
    "\n",
    "$$P(Falso Positivo) = 0.05$$\n",
    "\n",
    "$$P(Falso Negativo) = 0.05$$\n",
    "\n",
    "* La probabilidad de que una\n",
    "persona elegida al azar esté contagiada es igual a $p$\n",
    "\n",
    "\n",
    "Se elige una persona al azar y se le practica la prueba, resultando positiva, ***¿Cuál es la probabilidad de que la persona\n",
    "esté contagiada?***"
   ]
  },
  {
   "cell_type": "markdown",
   "metadata": {},
   "source": [
    "**Solución**\n",
    "\n",
    "*Eventos*\n",
    "\n",
    "* A: la persona seleccionada está contagiada.\n",
    "\n",
    "* B: la prueba resulta positiva.\n",
    "\n",
    "Se sabe entonces que: $$P(B_c | A) = 0:05$$  $$P(B | A_c\n",
    ") = 0:05$$  $$P(A) = p$$\n",
    "Por lo tanto:\n"
   ]
  }
 ],
 "metadata": {
  "kernelspec": {
   "display_name": "Python 3",
   "language": "python",
   "name": "python3"
  },
  "language_info": {
   "codemirror_mode": {
    "name": "ipython",
    "version": 3
   },
   "file_extension": ".py",
   "mimetype": "text/x-python",
   "name": "python",
   "nbconvert_exporter": "python",
   "pygments_lexer": "ipython3",
   "version": "3.8.3"
  }
 },
 "nbformat": 4,
 "nbformat_minor": 4
}
